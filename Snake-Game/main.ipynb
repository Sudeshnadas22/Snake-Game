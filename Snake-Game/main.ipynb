{
 "cells": [
  {
   "cell_type": "code",
   "execution_count": 91,
   "id": "7fd16975-fa69-455c-b0f0-6146f55770da",
   "metadata": {},
   "outputs": [],
   "source": [
    "#pip install opencv-python cvzone pygame numpy"
   ]
  },
  {
   "cell_type": "code",
   "execution_count": 92,
   "id": "d692ef7c-8e35-4d1f-b3a1-235937a92b93",
   "metadata": {},
   "outputs": [],
   "source": [
    "import cvzone\n",
    "import cv2\n",
    "import numpy as np\n",
    "import math\n",
    "import random\n",
    "from cvzone.HandTrackingModule import HandDetector\n",
    "import pygame\n"
   ]
  },
  {
   "cell_type": "code",
   "execution_count": 93,
   "id": "b2a7cf3d-1587-40f0-852b-a5f0ee90b6a5",
   "metadata": {},
   "outputs": [
    {
     "data": {
      "text/plain": [
       "(5, 0)"
      ]
     },
     "execution_count": 93,
     "metadata": {},
     "output_type": "execute_result"
    }
   ],
   "source": [
    "pygame.init()"
   ]
  },
  {
   "cell_type": "code",
   "execution_count": 94,
   "id": "2d77315c-4c16-4e9b-b043-59df46fc4db1",
   "metadata": {},
   "outputs": [
    {
     "data": {
      "text/plain": [
       "True"
      ]
     },
     "execution_count": 94,
     "metadata": {},
     "output_type": "execute_result"
    }
   ],
   "source": [
    "cap = cv2.VideoCapture(0)\n",
    "cap.set(3, 1260)\n",
    "cap.set(4, 1080)"
   ]
  },
  {
   "cell_type": "code",
   "execution_count": 95,
   "id": "886209f4-82ec-4c57-88ee-7bcd7b4aae4c",
   "metadata": {},
   "outputs": [],
   "source": [
    "detector = HandDetector(detectionCon=0.8, maxHands=1)"
   ]
  },
  {
   "cell_type": "code",
   "execution_count": 96,
   "id": "3f48ea8b-c2fc-41d5-9672-409fb2c5cd6b",
   "metadata": {},
   "outputs": [
    {
     "name": "stdout",
     "output_type": "stream",
     "text": [
      "1\n"
     ]
    }
   ],
   "source": [
    "class SnakeGameClass:\n",
    "    def __init__(self, pathSnake, point_s, gameover_s):\n",
    "        self.points = []#all points of snake\n",
    "        self.lengths = [] # distance between each point\n",
    "        self.currentLength = 0 # total length of snake\n",
    "        self.allowedLength = 50 # total allowed length\n",
    "        self.previousHead = 0, 0 #previous head point\n",
    "\n",
    "        self.foodImgs = [cv2.resize(cv2.imread(path, cv2.IMREAD_UNCHANGED), (40, 40), interpolation=cv2.INTER_AREA) for path in foodPaths]\n",
    "        self.currentFoodImg = random.choice(self.foodImgs)\n",
    "        self.hfood, self.wfood, _ = self.currentFoodImg.shape\n",
    "        self.foodPoint = 0, 0\n",
    "        self.randomFoodLocation()\n",
    "\n",
    "        self.imgSnake = cv2.imread(pathSnake, cv2.IMREAD_UNCHANGED)\n",
    "        self.imgSnake = cv2.resize(self.imgSnake, (60, 60), interpolation=cv2.INTER_AREA)\n",
    "        self.hSnake, self.wSnake, _ = self.imgSnake.shape\n",
    "\n",
    "        self.score = 0\n",
    "        self.gameOver = False\n",
    "        with open(\"score.txt\", \"r\") as f:\n",
    "            self.maxScore = int(f.read())\n",
    "\n",
    "        self.point_s = point_s\n",
    "        self.gameover_s = gameover_s\n",
    "\n",
    "\n",
    "    def randomFoodLocation(self):\n",
    "        self.foodPoint = random.randint(200,1000), random.randint(100,500)\n",
    "        self.currentFoodImg = random.choice(self.foodImgs)  \n",
    "        self.hfood, self.wfood, _ = self.currentFoodImg.shape\n",
    "\n",
    "    def update(self, imgMain, currentHead):\n",
    "\n",
    "        if self.gameOver:\n",
    "            \n",
    "            cvzone.putTextRect(imgMain, \"Game Over\", [580, 200], scale=2,\n",
    "                   colorT=(255, 255, 255), colorR=(204, 0, 0))\n",
    "            cvzone.putTextRect(imgMain, f\"Score: {self.score}\", [600, 240], scale=2,\n",
    "                   colorT=(255, 255, 255), colorR=(204, 0, 0))\n",
    "\n",
    "            \n",
    "            self.maxScore = max(self.maxScore,self.score)\n",
    "            with open(\"score.txt\", \"w\") as f:\n",
    "                f.write(str(self.maxScore))\n",
    "            cvzone.putTextRect(imgMain, \"Press Space to Start Again!\", [450, 300], scale=2,\n",
    "                   colorT=(0, 0, 0), colorR=(255, 255, 255))\n",
    "\n",
    "\n",
    "        else:\n",
    "            px, py = self.previousHead\n",
    "            cx, cy = currentHead\n",
    "\n",
    "            self.points.append([cx, cy])\n",
    "            distance = math.hypot(cx-px, cy-py)\n",
    "            self.lengths.append(distance)\n",
    "            self.currentLength += distance\n",
    "            self.previousHead = cx, cy\n",
    "\n",
    "           # Length Reduction\n",
    "            if self.currentLength > self.allowedLength:\n",
    "                for i,length in enumerate(self.lengths):\n",
    "                    self.currentLength -= length\n",
    "                    self.lengths.pop(i)\n",
    "                    self.points.pop(i)\n",
    "                    if self.currentLength < self.allowedLength:\n",
    "                        break\n",
    "\n",
    "            # check if snake ate the food\n",
    "            rx, ry = self.foodPoint\n",
    "            if rx < cx < rx +self.wfood and ry < cy < ry + self.hfood:\n",
    "                self.point_s.play()\n",
    "                self.randomFoodLocation()\n",
    "                self.allowedLength += 20\n",
    "                self.score += 1\n",
    "                print(self.score)\n",
    "            cvzone.putTextRect(imgMain, f\"Score: {self.score}\", [1200, 20], scale=1, thickness=2,\n",
    "                   colorT=(255, 255, 255), colorR=(0, 102, 204))\n",
    "\n",
    "            #Draw Snake\n",
    "            if self.points:\n",
    "                for i,point in enumerate(self.points):\n",
    "                    if i!=0: \n",
    "                        color_intensity = int(255 * (i / len(self.points)))\n",
    "                        cv2.line(imgMain, self.points[i-1], self.points[i],(0, color_intensity, 0), 20)\n",
    "                hx, hy = self.points[-1]\n",
    "                imgMain = cvzone.overlayPNG(imgMain, self.imgSnake, (hx - self.wSnake // 2, hy - self.hSnake // 2))\n",
    "\n",
    "                        \n",
    "            #Draw Food\n",
    "            rx, ry = self.foodPoint\n",
    "            imgMain = cvzone.overlayPNG(imgMain,self.currentFoodImg, (rx , ry ))\n",
    "\n",
    "            #check for collision\n",
    "            pts = np.array(self.points[:-2], np.int32)\n",
    "            pts = pts.reshape((-1, 1, 2))\n",
    "            mindist = cv2.pointPolygonTest(pts, (cx,cy), True)\n",
    "        \n",
    "            if -0.25 <= mindist <= 0.25:\n",
    "                self.gameover_s.play()\n",
    "                self.gameOver = True\n",
    "                self.points = []#all points of snake\n",
    "                self.lengths = [] # distance between each point\n",
    "                self.currentLength = 0 # total length of snake\n",
    "                self.allowedLength = 50 # total allowed length\n",
    "                self.previousHead = 0, 0 #previous head point\n",
    "                self.randomFoodLocation()  \n",
    "\n",
    "        cvzone.putTextRect(imgMain, f\"Highest Score: {self.maxScore}\", [0, 20], scale=1, thickness=2,\n",
    "                   colorT=(255, 255, 255), colorR=(51, 153, 102))\n",
    "\n",
    "        return imgMain\n",
    "\n",
    "foodPaths = [\"banana.png\", \"apple.png\", \"food.png\"]\n",
    "point_s = pygame.mixer.Sound(\"point.wav\")\n",
    "gameover_s = pygame.mixer.Sound(\"gameOver.wav\")\n",
    "game = SnakeGameClass(\"snake.png\", point_s, gameover_s)\n",
    "\n",
    "while True:\n",
    "    success, img = cap.read()\n",
    "    if not success:\n",
    "        print(\"Failed to grab frame from camera\")\n",
    "        break\n",
    "    img = cv2.flip(img,1)\n",
    "    cvzone.putTextRect(img, \"Use your INDEX finger to move the Snake\", [500, 20], scale=1, thickness=2,\n",
    "                   colorT=(255, 255, 255), colorR=(0, 0, 0))\n",
    "\n",
    "    hands, img = detector.findHands(img, flipType=False)\n",
    "    \n",
    "    if hands:\n",
    "        lmList = hands[0]['lmList']\n",
    "        pointIndex = lmList[8][0:2]\n",
    "        img = game.update(img, pointIndex)\n",
    "    cv2.imshow(\"Image\",img)\n",
    "    key = cv2.waitKey(1)\n",
    "\n",
    "    if key == ord(' '):\n",
    "        game.gameOver = False\n",
    "        game.score = 0\n",
    "    elif key == ord('q'):\n",
    "        break\n",
    "\n",
    "cap.release()\n",
    "cv2.destroyAllWindows()\n"
   ]
  },
  {
   "cell_type": "code",
   "execution_count": null,
   "id": "d7ec3785-c165-4228-8d0e-c6016321d821",
   "metadata": {},
   "outputs": [],
   "source": []
  }
 ],
 "metadata": {
  "kernelspec": {
   "display_name": "Python 3 (ipykernel)",
   "language": "python",
   "name": "python3"
  },
  "language_info": {
   "codemirror_mode": {
    "name": "ipython",
    "version": 3
   },
   "file_extension": ".py",
   "mimetype": "text/x-python",
   "name": "python",
   "nbconvert_exporter": "python",
   "pygments_lexer": "ipython3",
   "version": "3.12.7"
  }
 },
 "nbformat": 4,
 "nbformat_minor": 5
}
